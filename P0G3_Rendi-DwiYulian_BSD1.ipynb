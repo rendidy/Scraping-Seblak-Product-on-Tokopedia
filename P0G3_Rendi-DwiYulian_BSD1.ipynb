{
 "cells": [
  {
   "cell_type": "markdown",
   "metadata": {},
   "source": [
    "=============================================================================\n",
    "Nama    : Rendi Dwi Yulian\n",
    "\n",
    "Objective Umum:\n",
    "\n",
    "        Program ini dibuat untuk dapat memperkirakan seberapa besar potensi keuntungan yang bisa diperoleh dari berjualan seblak dengan skema dropship. Untuk itu diperlukan data penjualan seblak yang diperoleh dari melakukan Web scraping pada marketplace Tokopedia. lalu akan dilakukan data cleaning sebelum melakukan eksplorasi dan analisa lebih jauh. kemudian dilakukan dilakukan beberapa pengujian statistik untuk mendapatkan data-data yang diinginkan.\n",
    "\n",
    "\n",
    "\n",
    "============================================================================="
   ]
  },
  {
   "cell_type": "code",
   "execution_count": 187,
   "metadata": {},
   "outputs": [],
   "source": [
    "#library & modul\n",
    "import pandas as pd\n",
    "import requests\n",
    "from bs4 import BeautifulSoup\n",
    "from selenium import webdriver\n",
    "import time\n",
    "import csv\n",
    "from scipy import stats\n",
    "import numpy as np"
   ]
  },
  {
   "cell_type": "code",
   "execution_count": 215,
   "metadata": {},
   "outputs": [
    {
     "name": "stderr",
     "output_type": "stream",
     "text": [
      "The msedgedriver version (115.0.1901.200) detected in PATH at c:\\Users\\Kuro\\Desktop\\FTDS Hacktiv8\\Latihan\\Phase0\\GC 3\\p0-ftds001-bsd-g3-rendidy\\msedgedriver.exe might not be compatible with the detected edge version (115.0.1901.203); currently, msedgedriver 115.0.1901.203 is recommended for edge 115.*, so it is advised to delete the driver in PATH and retry\n"
     ]
    },
    {
     "data": {
      "text/html": [
       "<div>\n",
       "<style scoped>\n",
       "    .dataframe tbody tr th:only-of-type {\n",
       "        vertical-align: middle;\n",
       "    }\n",
       "\n",
       "    .dataframe tbody tr th {\n",
       "        vertical-align: top;\n",
       "    }\n",
       "\n",
       "    .dataframe thead th {\n",
       "        text-align: right;\n",
       "    }\n",
       "</style>\n",
       "<table border=\"1\" class=\"dataframe\">\n",
       "  <thead>\n",
       "    <tr style=\"text-align: right;\">\n",
       "      <th></th>\n",
       "      <th>Nama Produk</th>\n",
       "      <th>Harga Produk</th>\n",
       "      <th>Seler</th>\n",
       "      <th>Lokasi</th>\n",
       "      <th>Total Terjual</th>\n",
       "      <th>Rating</th>\n",
       "    </tr>\n",
       "  </thead>\n",
       "  <tbody>\n",
       "    <tr>\n",
       "      <th>0</th>\n",
       "      <td>Seblak Instan Ceu Nthien Khas Bandung Rasana N...</td>\n",
       "      <td>Rp15.000</td>\n",
       "      <td>Central Seblak Nusantara</td>\n",
       "      <td>Tangerang Selatan</td>\n",
       "      <td>Terjual 1 rb+</td>\n",
       "      <td>4.9</td>\n",
       "    </tr>\n",
       "    <tr>\n",
       "      <th>1</th>\n",
       "      <td>SEBLAK JUARA INSTAN MASAK BASAH ASLI BANDUNG E...</td>\n",
       "      <td>Rp22.000</td>\n",
       "      <td>Rasa Juara Indonesia</td>\n",
       "      <td>Bandung</td>\n",
       "      <td>Terjual 750+</td>\n",
       "      <td>4.9</td>\n",
       "    </tr>\n",
       "    <tr>\n",
       "      <th>2</th>\n",
       "      <td>KERUPUK SEBLAK MENTAH ANEKA WARNA</td>\n",
       "      <td>Rp11.500</td>\n",
       "      <td>jajanangarut19</td>\n",
       "      <td>Jakarta Selatan</td>\n",
       "      <td>Terjual 100+</td>\n",
       "      <td>4.9</td>\n",
       "    </tr>\n",
       "    <tr>\n",
       "      <th>3</th>\n",
       "      <td>MASJAY Seblak Bumbu Membara Instant - No.1 Str...</td>\n",
       "      <td>Rp15.000</td>\n",
       "      <td>Lidigeli</td>\n",
       "      <td>Kab. Garut</td>\n",
       "      <td>Terjual 70+</td>\n",
       "      <td>5.0</td>\n",
       "    </tr>\n",
       "    <tr>\n",
       "      <th>4</th>\n",
       "      <td>Seblak Juara ! Seblak Instan Rasa Original</td>\n",
       "      <td>Rp115.000</td>\n",
       "      <td>Rasa Juara Indonesia</td>\n",
       "      <td>Bandung</td>\n",
       "      <td>Terjual 2 rb+</td>\n",
       "      <td>4.9</td>\n",
       "    </tr>\n",
       "  </tbody>\n",
       "</table>\n",
       "</div>"
      ],
      "text/plain": [
       "                                         Nama Produk Harga Produk  \\\n",
       "0  Seblak Instan Ceu Nthien Khas Bandung Rasana N...     Rp15.000   \n",
       "1  SEBLAK JUARA INSTAN MASAK BASAH ASLI BANDUNG E...     Rp22.000   \n",
       "2                  KERUPUK SEBLAK MENTAH ANEKA WARNA     Rp11.500   \n",
       "3  MASJAY Seblak Bumbu Membara Instant - No.1 Str...     Rp15.000   \n",
       "4         Seblak Juara ! Seblak Instan Rasa Original    Rp115.000   \n",
       "\n",
       "                      Seler             Lokasi  Total Terjual Rating  \n",
       "0  Central Seblak Nusantara  Tangerang Selatan  Terjual 1 rb+    4.9  \n",
       "1      Rasa Juara Indonesia            Bandung   Terjual 750+    4.9  \n",
       "2            jajanangarut19    Jakarta Selatan   Terjual 100+    4.9  \n",
       "3                  Lidigeli         Kab. Garut    Terjual 70+    5.0  \n",
       "4      Rasa Juara Indonesia            Bandung  Terjual 2 rb+    4.9  "
      ]
     },
     "execution_count": 215,
     "metadata": {},
     "output_type": "execute_result"
    }
   ],
   "source": [
    "Seblak=[]\n",
    "#list kosong untuk menampung data Seblak yang akan di scraping\n",
    "\n",
    "driver = webdriver.Edge() \n",
    "# digunakan untuk membuat instance dari WebDriver yang akan digunakan untuk mengontrol browser Microsoft Edge\n",
    "\n",
    "for i in range(1,18): \n",
    "# perintah looping untuk link Tokped dari halaman 1-17\n",
    "    Tokped=\"https://www.tokopedia.com/search?navsource=&page={}&q=seblak&srp_component_id=02.01.00.00&srp_page_id=&srp_page_title=&st=\".format(i)\n",
    "    #link Tokped \n",
    "    driver.get(Tokped) \n",
    "    # perintah untuk membuka halaman web dengan URL yang disediakan dalam variabel Tokped menggunakan WebDriver\n",
    "    time.sleep(3) \n",
    "    # perintah untuk memberi waktu jeda selama 3 detik sebelum melanjutkan. Waktu jeda ini memberikan waktu bagi halaman web untuk sepenuhnya dimuat sebelum melakukan interaksi selanjutnya\n",
    "    html = driver.page_source \n",
    "    #perintah untuk mengambil seluruh kode HTML dari halaman web yang saat ini dibuka dalam browser WebDriver\n",
    "    soup = BeautifulSoup(html, \"html.parser\") \n",
    "    #perintah untuk membuat objek BeautifulSoup yang akan digunakan untuk melakukan parsing dan ekstraksi data dari sumber kode HTML.\n",
    "       \n",
    "\n",
    "    for sblk in soup.findAll('div', class_=\"css-uwyh54\")[:10]: \n",
    "        # perintah loop untuk melakukan iterasi pada elemen class 'css-uwyh54' dalam objek soup. Elemen ini adalah elemen yang berisi informasi produk pada halaman web. \n",
    "        # [10] perintah untuk hanya mengambil 10 elemen pertama dari hasil pencarian.\n",
    "        namaproduk          = sblk.find('div', class_=\"css-3um8ox\").text  \n",
    "        # perintah untuk mencari elemen <div> class 'css-3um8ox' di dalam elemen sblk yang sedang diiterasi. Elemen ini berisi nama produk. \n",
    "        # (.text) untuk mengambil teks di dalam elemen tersebut dan menyimpannya dalam variabel namaproduk.\n",
    "        hargaproduk         = sblk.find('div', class_=\"css-1ksb19c\").text\n",
    "        # perintah mencari elemen dengan class 'css-1ksb19c' yang berisi harga produk. fungsi (.text) sama dengan penjelasan sebelumnya(di atas)\n",
    "        \n",
    "        for sblk2 in sblk.findAll('div', class_=\"css-1rn0irl\"): \n",
    "        # perintah loop untuk melakukan iterasi pada elemen class 'css-uwyh54' dalam objek soup.  \n",
    "            seler           = sblk2.findAll('span', class_=\"css-1kdc32b\")[1].text\n",
    "            # perintah untuk mencari semua elemen <span> dengan class 'css-1kdc32b'. Elemen ini berisi informasi penjual. \n",
    "            # [0] menunjukkan untuk mengambil elemen pertama dari hasil pencarian (asumsi bahwa elemen pertama berisi nama penjual).  fungsi (.text) sama dengan penjelasan sebelumnya(di atas)\n",
    "            city            = sblk2.findAll('span', class_=\"css-1kdc32b\")[0].text\n",
    "            # perintah untuk mencari semua elemen <span> dengan class 'css-1kdc32b'. Elemen ini berisi informasi nama kota. \n",
    "            # [0] menunjukkan untuk mengambil elemen pertama dari hasil pencarian (asumsi bahwa elemen pertama berisi nama penjual).  fungsi (.text) sama dengan penjelasan sebelumnya(di atas)\n",
    "        # pada case ini, elemen nama penjual/nama toko dan asal kota berada didalam 1 class yang sama, yaitu css-1rn0irl. \n",
    "        # maka perlu dilakukan looping untuk melakukan scaping untuk mendapatkan informasi yang diinginkan satu per satu\n",
    "\n",
    "        terjual = sblk.findAll('span', class_=\"css-1duhs3e\")\n",
    "        # perintah untuk mencari semua elemen <span> dengan class 'css-1duhs3e' di dalam elemen sblk yang sedang diiterasi. \n",
    "        # Elemen ini berisi informasi tentang total penjualan produk.\n",
    "        if len(terjual)>0:\n",
    "        # kondisi yang memeriksa apakah hasil pencarian terjual menghasilkan setidaknya satu elemen. \n",
    "        # jika jumlah elemen dari terjual lebih besar dari 0, berarti informasi total penjualan ditemukan.\n",
    "            totaljual       = sblk.find('span', class_=\"css-1duhs3e\").text\n",
    "            # perintah mencari elemen <span> dengan class 'css-1duhs3e' di dalam elemen sblk. Elemen ini berisi total penjualan.\n",
    "            # fungsi (.text) sama dengan penjelasan sebelumnya(di atas)\n",
    "        else: \n",
    "        # kondisi jika elemen tidak ditemukan\n",
    "            totaljual       = None \n",
    "            # variabel totaljual akan diatur menjadi None jika total penjualan tidak tersedia atau tidak ditemukan.\n",
    "        rating = sblk.findAll('span', class_=\"css-t70v7i\")\n",
    "        # perintah untuk mencari semua elemen <span> dengan class 'css-t70v7i' di dalam elemen sblk yang sedang diiterasi. \n",
    "        # Elemen ini berisi informasi tentang rating produk.\n",
    "        if len(rating)>0:\n",
    "        # kondisi yang memeriksa apakah hasil pencarian rating menghasilkan setidaknya satu elemen. \n",
    "        # jika jumlah elemen dari rating lebih besar dari 0, berarti informasi rating produk ditemukan.\n",
    "            ratingproduk    = sblk.find('span', class_=\"css-t70v7i\").text\n",
    "            # perintah mencari elemen <span> dengan class 'css-t70v7i' di dalam elemen sblk. Elemen ini berisi rating penjualan.\n",
    "            # fungsi (.text) sama dengan penjelasan sebelumnya(di atas)\n",
    "        else:\n",
    "        # kondisi jika elemen tidak ditemukan\n",
    "            ratingproduk    = None\n",
    "            # variabel totaljual akan diatur menjadi None jika total penjualan tidak tersedia atau tidak ditemukan.\n",
    "\n",
    "        Seblak.append(\n",
    "            (namaproduk, hargaproduk, seler, city, totaljual, ratingproduk)\n",
    "            )\n",
    "        # perintah untuk menambahkan namaproduk, hargaproduk, seler, city, totaljual, ratingproduk  yang diperoleh di atas\n",
    "        # ke dalam list kosong Seblak yang sudah dibuat sebelumnya. \n",
    "        # Dengan melakukan ini, setiap kali informasi produk diambil dari halaman web, maka akan ditambahkan ke dalam list kosong Seblak.\n",
    "\n",
    "df_Seblak=pd.DataFrame(Seblak, columns=['Nama Produk', 'Harga Produk', 'Seler', 'Lokasi', 'Total Terjual', 'Rating'])\n",
    "df_Seblak.head()"
   ]
  },
  {
   "cell_type": "markdown",
   "metadata": {},
   "source": [
    "### Penjelasan\n",
    "Data di atas diperoleh dengan melakukan web scraping dari website tokopedia.\n",
    "Terdapat Lebih dari 80ribu hasil pencarian \"Seblak\" yang ada di tokopedia. Untuk itu, saya menscraping menggunakan metode data random sampling dari hasil pencarian \"Seblak\" dengan dengan ketentuan mengambil 10 data per halaman, dan di ambil dari total 17 halaman. maka diperoleh scraping data hasil pencarian \"Seblak\" dari tokopedia sebanyak 170 baris data."
   ]
  },
  {
   "cell_type": "code",
   "execution_count": 254,
   "metadata": {},
   "outputs": [],
   "source": [
    "df = df_Seblak.to_csv('Seblak', index=False)"
   ]
  },
  {
   "cell_type": "markdown",
   "metadata": {},
   "source": [
    "Mengkonversi dataframe menjadi file CSV. agar data yang diperoleh bisa konsisten dan tidak berubah."
   ]
  },
  {
   "cell_type": "code",
   "execution_count": 255,
   "metadata": {},
   "outputs": [],
   "source": [
    "Data_Seblak = pd.read_csv('Seblak')"
   ]
  },
  {
   "cell_type": "markdown",
   "metadata": {},
   "source": [
    "Memuat file CSV yang dikonvert sebelumnya, untuk di olah lebih lanjut"
   ]
  },
  {
   "cell_type": "code",
   "execution_count": 256,
   "metadata": {},
   "outputs": [
    {
     "data": {
      "text/html": [
       "<div>\n",
       "<style scoped>\n",
       "    .dataframe tbody tr th:only-of-type {\n",
       "        vertical-align: middle;\n",
       "    }\n",
       "\n",
       "    .dataframe tbody tr th {\n",
       "        vertical-align: top;\n",
       "    }\n",
       "\n",
       "    .dataframe thead th {\n",
       "        text-align: right;\n",
       "    }\n",
       "</style>\n",
       "<table border=\"1\" class=\"dataframe\">\n",
       "  <thead>\n",
       "    <tr style=\"text-align: right;\">\n",
       "      <th></th>\n",
       "      <th>Nama Produk</th>\n",
       "      <th>Harga Produk</th>\n",
       "      <th>Seler</th>\n",
       "      <th>Lokasi</th>\n",
       "      <th>Total Terjual</th>\n",
       "      <th>Rating</th>\n",
       "    </tr>\n",
       "  </thead>\n",
       "  <tbody>\n",
       "    <tr>\n",
       "      <th>0</th>\n",
       "      <td>Seblak Instan Ceu Nthien Khas Bandung Rasana N...</td>\n",
       "      <td>Rp15.000</td>\n",
       "      <td>Central Seblak Nusantara</td>\n",
       "      <td>Tangerang Selatan</td>\n",
       "      <td>Terjual 1 rb+</td>\n",
       "      <td>4.9</td>\n",
       "    </tr>\n",
       "    <tr>\n",
       "      <th>1</th>\n",
       "      <td>SEBLAK JUARA INSTAN MASAK BASAH ASLI BANDUNG E...</td>\n",
       "      <td>Rp22.000</td>\n",
       "      <td>Rasa Juara Indonesia</td>\n",
       "      <td>Bandung</td>\n",
       "      <td>Terjual 750+</td>\n",
       "      <td>4.9</td>\n",
       "    </tr>\n",
       "    <tr>\n",
       "      <th>2</th>\n",
       "      <td>KERUPUK SEBLAK MENTAH ANEKA WARNA</td>\n",
       "      <td>Rp11.500</td>\n",
       "      <td>jajanangarut19</td>\n",
       "      <td>Jakarta Selatan</td>\n",
       "      <td>Terjual 100+</td>\n",
       "      <td>4.9</td>\n",
       "    </tr>\n",
       "    <tr>\n",
       "      <th>3</th>\n",
       "      <td>MASJAY Seblak Bumbu Membara Instant - No.1 Str...</td>\n",
       "      <td>Rp15.000</td>\n",
       "      <td>Lidigeli</td>\n",
       "      <td>Kab. Garut</td>\n",
       "      <td>Terjual 70+</td>\n",
       "      <td>5.0</td>\n",
       "    </tr>\n",
       "    <tr>\n",
       "      <th>4</th>\n",
       "      <td>Seblak Juara ! Seblak Instan Rasa Original</td>\n",
       "      <td>Rp115.000</td>\n",
       "      <td>Rasa Juara Indonesia</td>\n",
       "      <td>Bandung</td>\n",
       "      <td>Terjual 2 rb+</td>\n",
       "      <td>4.9</td>\n",
       "    </tr>\n",
       "    <tr>\n",
       "      <th>...</th>\n",
       "      <td>...</td>\n",
       "      <td>...</td>\n",
       "      <td>...</td>\n",
       "      <td>...</td>\n",
       "      <td>...</td>\n",
       "      <td>...</td>\n",
       "    </tr>\n",
       "    <tr>\n",
       "      <th>165</th>\n",
       "      <td>Seblak Putih Odjolali Snack</td>\n",
       "      <td>Rp11.000</td>\n",
       "      <td>Odjolali Snack</td>\n",
       "      <td>Bandung</td>\n",
       "      <td>Terjual 100+</td>\n",
       "      <td>5.0</td>\n",
       "    </tr>\n",
       "    <tr>\n",
       "      <th>166</th>\n",
       "      <td>Kerucang - Kerupuk Bumbu Kacang - 150 gr Seblak</td>\n",
       "      <td>Rp12.500</td>\n",
       "      <td>cemilan4u</td>\n",
       "      <td>Bandung</td>\n",
       "      <td>NaN</td>\n",
       "      <td>NaN</td>\n",
       "    </tr>\n",
       "    <tr>\n",
       "      <th>167</th>\n",
       "      <td>Kerupuk Terasi Mentah 250gr /Kerupuk Seblak</td>\n",
       "      <td>Rp5.350</td>\n",
       "      <td>Sin Nana</td>\n",
       "      <td>Semarang</td>\n",
       "      <td>NaN</td>\n",
       "      <td>NaN</td>\n",
       "    </tr>\n",
       "    <tr>\n",
       "      <th>168</th>\n",
       "      <td>PAKET 1 BOCI EXTRA PEDAS + 1 TULANG RANGU + 1 ...</td>\n",
       "      <td>Rp50.000</td>\n",
       "      <td>JM Snacks</td>\n",
       "      <td>Bandung</td>\n",
       "      <td>Terjual 30+</td>\n",
       "      <td>4.9</td>\n",
       "    </tr>\n",
       "    <tr>\n",
       "      <th>169</th>\n",
       "      <td>SIOMAY MINI KERING 5 KG Garut campuran bahan b...</td>\n",
       "      <td>Rp140.999</td>\n",
       "      <td>ArfaOnlineShop</td>\n",
       "      <td>Tangerang</td>\n",
       "      <td>Terjual 11</td>\n",
       "      <td>4.7</td>\n",
       "    </tr>\n",
       "  </tbody>\n",
       "</table>\n",
       "<p>170 rows × 6 columns</p>\n",
       "</div>"
      ],
      "text/plain": [
       "                                           Nama Produk Harga Produk  \\\n",
       "0    Seblak Instan Ceu Nthien Khas Bandung Rasana N...     Rp15.000   \n",
       "1    SEBLAK JUARA INSTAN MASAK BASAH ASLI BANDUNG E...     Rp22.000   \n",
       "2                    KERUPUK SEBLAK MENTAH ANEKA WARNA     Rp11.500   \n",
       "3    MASJAY Seblak Bumbu Membara Instant - No.1 Str...     Rp15.000   \n",
       "4           Seblak Juara ! Seblak Instan Rasa Original    Rp115.000   \n",
       "..                                                 ...          ...   \n",
       "165                        Seblak Putih Odjolali Snack     Rp11.000   \n",
       "166    Kerucang - Kerupuk Bumbu Kacang - 150 gr Seblak     Rp12.500   \n",
       "167        Kerupuk Terasi Mentah 250gr /Kerupuk Seblak      Rp5.350   \n",
       "168  PAKET 1 BOCI EXTRA PEDAS + 1 TULANG RANGU + 1 ...     Rp50.000   \n",
       "169  SIOMAY MINI KERING 5 KG Garut campuran bahan b...    Rp140.999   \n",
       "\n",
       "                        Seler             Lokasi  Total Terjual  Rating  \n",
       "0    Central Seblak Nusantara  Tangerang Selatan  Terjual 1 rb+     4.9  \n",
       "1        Rasa Juara Indonesia            Bandung   Terjual 750+     4.9  \n",
       "2              jajanangarut19    Jakarta Selatan   Terjual 100+     4.9  \n",
       "3                    Lidigeli         Kab. Garut    Terjual 70+     5.0  \n",
       "4        Rasa Juara Indonesia            Bandung  Terjual 2 rb+     4.9  \n",
       "..                        ...                ...            ...     ...  \n",
       "165            Odjolali Snack            Bandung   Terjual 100+     5.0  \n",
       "166                 cemilan4u            Bandung            NaN     NaN  \n",
       "167                  Sin Nana           Semarang            NaN     NaN  \n",
       "168                 JM Snacks            Bandung    Terjual 30+     4.9  \n",
       "169            ArfaOnlineShop          Tangerang     Terjual 11     4.7  \n",
       "\n",
       "[170 rows x 6 columns]"
      ]
     },
     "execution_count": 256,
     "metadata": {},
     "output_type": "execute_result"
    }
   ],
   "source": [
    "Data_Seblak\n",
    "# menampilkan dataframe "
   ]
  },
  {
   "cell_type": "code",
   "execution_count": 257,
   "metadata": {},
   "outputs": [
    {
     "data": {
      "text/plain": [
       "150"
      ]
     },
     "execution_count": 257,
     "metadata": {},
     "output_type": "execute_result"
    }
   ],
   "source": [
    "Data_Seblak['Nama Produk'].nunique()"
   ]
  },
  {
   "cell_type": "markdown",
   "metadata": {},
   "source": [
    "Terdapat 150 data unique dari kolom nama produk dari data frame data_seblak di atas. itu berarti ada 20 duplicate data yang harus di bersihkan"
   ]
  },
  {
   "cell_type": "code",
   "execution_count": 259,
   "metadata": {},
   "outputs": [
    {
     "data": {
      "text/plain": [
       "Paket Adha 4 - Dimsum; Seblak Kering; Panzerotti; Seblak Komplit Kuah    3\n",
       "Seblak Instan Ceu Nthien Khas Bandung Rasana Ngeunah Pisan               2\n",
       "SEBLAK JUARA INSTAN MASAK BASAH ASLI BANDUNG ENAK MANTAP                 2\n",
       "Keripik Seblak Pedas / Snack Spicy Homemade, Cemilan, Kerupuk, Jajan     2\n",
       "Seblak Tulang Rawan k.y.l Kylafood                                       2\n",
       "                                                                        ..\n",
       "Seblak Pedas Kicimpring Iyagasih                                         1\n",
       "Kerupuk Seblak Pedas 200gram                                             1\n",
       "Seblak Putri 80 gr                                                       1\n",
       "aneka kerupuk mix untuk bahan seblak 500 gr                              1\n",
       "SIOMAY MINI KERING 5 KG Garut campuran bahan baso Aci dan seblak         1\n",
       "Name: Nama Produk, Length: 150, dtype: int64"
      ]
     },
     "execution_count": 259,
     "metadata": {},
     "output_type": "execute_result"
    }
   ],
   "source": [
    "Data_Seblak['Nama Produk'].value_counts()\n",
    "#menghitung total masing-masing value dari kolom nama prduk untuk melihat data duplikat"
   ]
  },
  {
   "cell_type": "code",
   "execution_count": 260,
   "metadata": {},
   "outputs": [
    {
     "name": "stdout",
     "output_type": "stream",
     "text": [
      "<class 'pandas.core.frame.DataFrame'>\n",
      "RangeIndex: 170 entries, 0 to 169\n",
      "Data columns (total 6 columns):\n",
      " #   Column         Non-Null Count  Dtype  \n",
      "---  ------         --------------  -----  \n",
      " 0   Nama Produk    170 non-null    object \n",
      " 1   Harga Produk   170 non-null    object \n",
      " 2   Seler          170 non-null    object \n",
      " 3   Lokasi         170 non-null    object \n",
      " 4   Total Terjual  140 non-null    object \n",
      " 5   Rating         132 non-null    float64\n",
      "dtypes: float64(1), object(5)\n",
      "memory usage: 8.1+ KB\n"
     ]
    }
   ],
   "source": [
    "Data_Seblak.info()\n",
    "#perintah untuk menampilkan detail info dari data frame"
   ]
  },
  {
   "cell_type": "markdown",
   "metadata": {},
   "source": [
    "Analisa:\n",
    "\n",
    "    1. Terlihat pada detail info di atas, tipe data dari masing-masing kolom, ada yang belum sesuai dengan tipe data yang seharusanya. \n",
    "    2. Terdapat juga beberapa Standart Missing value yang terdeteksi.\n",
    "    3. Jika diperhatikan lebih lanjut, juga terdapat data duplikat yang terscraping dari beberapa halaman.\n",
    "    \n",
    "hal ini menunjukan, bahwa diperlukan data cleaning terlebih dahulu sebelum data di analisa lebih lanjut.\n"
   ]
  },
  {
   "cell_type": "code",
   "execution_count": 263,
   "metadata": {},
   "outputs": [
    {
     "name": "stderr",
     "output_type": "stream",
     "text": [
      "C:\\Users\\Kuro\\AppData\\Local\\Temp\\ipykernel_10540\\2196735131.py:5: FutureWarning: The default value of regex will change from True to False in a future version. In addition, single character regular expressions will *not* be treated as literal strings when regex=True.\n",
      "  Data_Seblak['Harga Produk'] = Data_Seblak['Harga Produk'].str.replace('.', '')\n",
      "C:\\Users\\Kuro\\AppData\\Local\\Temp\\ipykernel_10540\\2196735131.py:9: FutureWarning: The default value of regex will change from True to False in a future version. In addition, single character regular expressions will *not* be treated as literal strings when regex=True.\n",
      "  Data_Seblak['Total Terjual'] = Data_Seblak['Total Terjual'].str.replace('+', '')\n"
     ]
    }
   ],
   "source": [
    "#Memperbaiki Data dari kolom, dengan menghapus / mengubah value yang tidak sesuai aataupun tidak dibutuhkan\n",
    "\n",
    "Data_Seblak['Harga Produk'] = Data_Seblak['Harga Produk'].str.replace('Rp', '') \n",
    "#fungsi untuk menghapus Rp (rupiah)\n",
    "Data_Seblak['Harga Produk'] = Data_Seblak['Harga Produk'].str.replace('.', '') \n",
    "#fungsi untuk menghapus (.)\n",
    "Data_Seblak['Total Terjual'] = Data_Seblak['Total Terjual'].str.replace(' ', '') \n",
    "#fungsi untuk menghapus ' '(spasi)\n",
    "Data_Seblak['Total Terjual'] = Data_Seblak['Total Terjual'].str.replace('+', '') \n",
    "#fungsi untuk menghapus simbol ('+')\n",
    "Data_Seblak['Total Terjual'] = Data_Seblak['Total Terjual'].str.replace('Terjual', '') \n",
    "#fungsi untuk menghapus tulisan 'terjual'\n",
    "Data_Seblak['Total Terjual'] = Data_Seblak['Total Terjual'].str.replace('rb', '000')\n",
    "#fungsi untuk mengubah 'rb' menjadi '000'\n"
   ]
  },
  {
   "cell_type": "markdown",
   "metadata": {},
   "source": [
    "- menghilangkan elemen-elemen yang tidak dipelukan di dalam data, sebelum dilakukan perubahan tipe data yang sesuai.\n",
    "- merubah 'rb' menjadi satuan angka '000' "
   ]
  },
  {
   "cell_type": "code",
   "execution_count": 264,
   "metadata": {},
   "outputs": [],
   "source": [
    "# Mengganti nilai 'None' dengan 0 pada kolom 'Total Terjual' dan 'Rating'\n",
    "Data_Seblak['Total Terjual'] = Data_Seblak['Total Terjual'].fillna(0)\n",
    "Data_Seblak['Rating'] = Data_Seblak['Rating'].fillna(0)"
   ]
  },
  {
   "cell_type": "markdown",
   "metadata": {},
   "source": [
    "- pada kolom total terjual dan rating, terdapat missing value berupa 'None' yang menandakan bahwa produk tersebut belum ada yang terjual ataupun belum ada yang memberi rating."
   ]
  },
  {
   "cell_type": "code",
   "execution_count": 266,
   "metadata": {},
   "outputs": [],
   "source": [
    "# Merubah Tipe Data kolom\n",
    "\n",
    "Data_Seblak['Harga Produk'] = Data_Seblak['Harga Produk'].astype(int) \n",
    "#fungsi untuk merubah data(Object) Harga Produk menjadi data(integer)\n",
    "Data_Seblak['Total Terjual'] = Data_Seblak['Total Terjual'].astype(int) \n",
    "#fungsi untuk merubah data(Object) Total Terjual menjadi data(integer)\n",
    "Data_Seblak['Rating'] = Data_Seblak['Rating'].astype(float) \n",
    "#fungsi untuk merubah data(Object) Rating menjadi data(Float)"
   ]
  },
  {
   "cell_type": "markdown",
   "metadata": {},
   "source": [
    "- merubah tipe data dari kolom pada data_seblak, agar data dapat di olah menjadi lebih lanjut."
   ]
  },
  {
   "cell_type": "code",
   "execution_count": 267,
   "metadata": {},
   "outputs": [
    {
     "data": {
      "text/plain": [
       "20"
      ]
     },
     "execution_count": 267,
     "metadata": {},
     "output_type": "execute_result"
    }
   ],
   "source": [
    "Data_Seblak.duplicated().sum()\n",
    "#perintah menghitung jumlah duplikat"
   ]
  },
  {
   "cell_type": "code",
   "execution_count": 268,
   "metadata": {},
   "outputs": [
    {
     "data": {
      "text/html": [
       "<div>\n",
       "<style scoped>\n",
       "    .dataframe tbody tr th:only-of-type {\n",
       "        vertical-align: middle;\n",
       "    }\n",
       "\n",
       "    .dataframe tbody tr th {\n",
       "        vertical-align: top;\n",
       "    }\n",
       "\n",
       "    .dataframe thead th {\n",
       "        text-align: right;\n",
       "    }\n",
       "</style>\n",
       "<table border=\"1\" class=\"dataframe\">\n",
       "  <thead>\n",
       "    <tr style=\"text-align: right;\">\n",
       "      <th></th>\n",
       "      <th>Nama Produk</th>\n",
       "      <th>Harga Produk</th>\n",
       "      <th>Seler</th>\n",
       "      <th>Lokasi</th>\n",
       "      <th>Total Terjual</th>\n",
       "      <th>Rating</th>\n",
       "    </tr>\n",
       "  </thead>\n",
       "  <tbody>\n",
       "    <tr>\n",
       "      <th>0</th>\n",
       "      <td>Seblak Instan Ceu Nthien Khas Bandung Rasana N...</td>\n",
       "      <td>15000</td>\n",
       "      <td>Central Seblak Nusantara</td>\n",
       "      <td>Tangerang Selatan</td>\n",
       "      <td>1000</td>\n",
       "      <td>4.9</td>\n",
       "    </tr>\n",
       "    <tr>\n",
       "      <th>1</th>\n",
       "      <td>SEBLAK JUARA INSTAN MASAK BASAH ASLI BANDUNG E...</td>\n",
       "      <td>22000</td>\n",
       "      <td>Rasa Juara Indonesia</td>\n",
       "      <td>Bandung</td>\n",
       "      <td>750</td>\n",
       "      <td>4.9</td>\n",
       "    </tr>\n",
       "    <tr>\n",
       "      <th>2</th>\n",
       "      <td>KERUPUK SEBLAK MENTAH ANEKA WARNA</td>\n",
       "      <td>11500</td>\n",
       "      <td>jajanangarut19</td>\n",
       "      <td>Jakarta Selatan</td>\n",
       "      <td>100</td>\n",
       "      <td>4.9</td>\n",
       "    </tr>\n",
       "    <tr>\n",
       "      <th>3</th>\n",
       "      <td>MASJAY Seblak Bumbu Membara Instant - No.1 Str...</td>\n",
       "      <td>15000</td>\n",
       "      <td>Lidigeli</td>\n",
       "      <td>Kab. Garut</td>\n",
       "      <td>70</td>\n",
       "      <td>5.0</td>\n",
       "    </tr>\n",
       "    <tr>\n",
       "      <th>4</th>\n",
       "      <td>Seblak Juara ! Seblak Instan Rasa Original</td>\n",
       "      <td>115000</td>\n",
       "      <td>Rasa Juara Indonesia</td>\n",
       "      <td>Bandung</td>\n",
       "      <td>2000</td>\n",
       "      <td>4.9</td>\n",
       "    </tr>\n",
       "    <tr>\n",
       "      <th>...</th>\n",
       "      <td>...</td>\n",
       "      <td>...</td>\n",
       "      <td>...</td>\n",
       "      <td>...</td>\n",
       "      <td>...</td>\n",
       "      <td>...</td>\n",
       "    </tr>\n",
       "    <tr>\n",
       "      <th>165</th>\n",
       "      <td>Seblak Putih Odjolali Snack</td>\n",
       "      <td>11000</td>\n",
       "      <td>Odjolali Snack</td>\n",
       "      <td>Bandung</td>\n",
       "      <td>100</td>\n",
       "      <td>5.0</td>\n",
       "    </tr>\n",
       "    <tr>\n",
       "      <th>166</th>\n",
       "      <td>Kerucang - Kerupuk Bumbu Kacang - 150 gr Seblak</td>\n",
       "      <td>12500</td>\n",
       "      <td>cemilan4u</td>\n",
       "      <td>Bandung</td>\n",
       "      <td>0</td>\n",
       "      <td>0.0</td>\n",
       "    </tr>\n",
       "    <tr>\n",
       "      <th>167</th>\n",
       "      <td>Kerupuk Terasi Mentah 250gr /Kerupuk Seblak</td>\n",
       "      <td>5350</td>\n",
       "      <td>Sin Nana</td>\n",
       "      <td>Semarang</td>\n",
       "      <td>0</td>\n",
       "      <td>0.0</td>\n",
       "    </tr>\n",
       "    <tr>\n",
       "      <th>168</th>\n",
       "      <td>PAKET 1 BOCI EXTRA PEDAS + 1 TULANG RANGU + 1 ...</td>\n",
       "      <td>50000</td>\n",
       "      <td>JM Snacks</td>\n",
       "      <td>Bandung</td>\n",
       "      <td>30</td>\n",
       "      <td>4.9</td>\n",
       "    </tr>\n",
       "    <tr>\n",
       "      <th>169</th>\n",
       "      <td>SIOMAY MINI KERING 5 KG Garut campuran bahan b...</td>\n",
       "      <td>140999</td>\n",
       "      <td>ArfaOnlineShop</td>\n",
       "      <td>Tangerang</td>\n",
       "      <td>11</td>\n",
       "      <td>4.7</td>\n",
       "    </tr>\n",
       "  </tbody>\n",
       "</table>\n",
       "<p>150 rows × 6 columns</p>\n",
       "</div>"
      ],
      "text/plain": [
       "                                           Nama Produk  Harga Produk  \\\n",
       "0    Seblak Instan Ceu Nthien Khas Bandung Rasana N...         15000   \n",
       "1    SEBLAK JUARA INSTAN MASAK BASAH ASLI BANDUNG E...         22000   \n",
       "2                    KERUPUK SEBLAK MENTAH ANEKA WARNA         11500   \n",
       "3    MASJAY Seblak Bumbu Membara Instant - No.1 Str...         15000   \n",
       "4           Seblak Juara ! Seblak Instan Rasa Original        115000   \n",
       "..                                                 ...           ...   \n",
       "165                        Seblak Putih Odjolali Snack         11000   \n",
       "166    Kerucang - Kerupuk Bumbu Kacang - 150 gr Seblak         12500   \n",
       "167        Kerupuk Terasi Mentah 250gr /Kerupuk Seblak          5350   \n",
       "168  PAKET 1 BOCI EXTRA PEDAS + 1 TULANG RANGU + 1 ...         50000   \n",
       "169  SIOMAY MINI KERING 5 KG Garut campuran bahan b...        140999   \n",
       "\n",
       "                        Seler             Lokasi  Total Terjual  Rating  \n",
       "0    Central Seblak Nusantara  Tangerang Selatan           1000     4.9  \n",
       "1        Rasa Juara Indonesia            Bandung            750     4.9  \n",
       "2              jajanangarut19    Jakarta Selatan            100     4.9  \n",
       "3                    Lidigeli         Kab. Garut             70     5.0  \n",
       "4        Rasa Juara Indonesia            Bandung           2000     4.9  \n",
       "..                        ...                ...            ...     ...  \n",
       "165            Odjolali Snack            Bandung            100     5.0  \n",
       "166                 cemilan4u            Bandung              0     0.0  \n",
       "167                  Sin Nana           Semarang              0     0.0  \n",
       "168                 JM Snacks            Bandung             30     4.9  \n",
       "169            ArfaOnlineShop          Tangerang             11     4.7  \n",
       "\n",
       "[150 rows x 6 columns]"
      ]
     },
     "execution_count": 268,
     "metadata": {},
     "output_type": "execute_result"
    }
   ],
   "source": [
    "# perintah untuk menghilangkan data duplikat\n",
    "df = Data_Seblak.drop_duplicates()\n",
    "df"
   ]
  },
  {
   "cell_type": "code",
   "execution_count": 269,
   "metadata": {},
   "outputs": [
    {
     "name": "stdout",
     "output_type": "stream",
     "text": [
      "<class 'pandas.core.frame.DataFrame'>\n",
      "Int64Index: 150 entries, 0 to 169\n",
      "Data columns (total 6 columns):\n",
      " #   Column         Non-Null Count  Dtype  \n",
      "---  ------         --------------  -----  \n",
      " 0   Nama Produk    150 non-null    object \n",
      " 1   Harga Produk   150 non-null    int32  \n",
      " 2   Seler          150 non-null    object \n",
      " 3   Lokasi         150 non-null    object \n",
      " 4   Total Terjual  150 non-null    int32  \n",
      " 5   Rating         150 non-null    float64\n",
      "dtypes: float64(1), int32(2), object(3)\n",
      "memory usage: 7.0+ KB\n"
     ]
    }
   ],
   "source": [
    "df.info()"
   ]
  },
  {
   "cell_type": "markdown",
   "metadata": {},
   "source": [
    "- Dari detail info di atas, terlihat tipe data dari masing-masing kolom sudah sesuai dengan tipe data yang seharusnya.\n",
    "- elemen-elemen yang tidak diperlukan juga sudah dihilangkan.\n",
    "- dan total data setelah menghilangkan dupilkat data adalah 150 row."
   ]
  },
  {
   "cell_type": "markdown",
   "metadata": {},
   "source": [
    "### Business Understanding & Problem Statement\n",
    "\n",
    "    \n",
    "Berikut ini adalah SMART goal untuk memulai bisnis dropship seblak di Tokopedia:\n",
    "\n",
    "- Specific: Menganalisa data penjualan seblak dan memulai bisnis dropship seblak di Tokopedia dalam waktu 1 bulan.\n",
    "- Measurable: Mencapai target penjualan seblak sebesar Rp10 juta dalam waktu 3 bulan.\n",
    "- Achievable: Dengan kerja keras dan strategi yang tepat, target penjualan ini dapat dicapai.\n",
    "- Relevant: Bisnis dropship seblak sangat relevan dengan tren saat ini, yaitu masyarakat yang menyukai makanan pedas.\n",
    "- Time-bound: Target penjualan Rp10 juta harus dicapai dalam waktu 3 bulan.\n",
    "\n",
    "\n",
    "Memulai bisnis dropship Seblak di Tokopedia dalam waktu 1 bulan, dan mampu meraih target penjualan sebesar 10jt dalam waktu 3 bulan dengan menerapkan strategi yang tepat.\n"
   ]
  },
  {
   "cell_type": "markdown",
   "metadata": {},
   "source": [
    "## Analisa Statistik\n",
    "- Selanjutnya akan dilakukan analisa statistik dari dataframe diatas, dengan melakukan penghitungan mean, median, standard deviasi, skew, dan kurtosis."
   ]
  },
  {
   "cell_type": "markdown",
   "metadata": {},
   "source": [
    "## 1."
   ]
  },
  {
   "cell_type": "code",
   "execution_count": 272,
   "metadata": {},
   "outputs": [
    {
     "name": "stdout",
     "output_type": "stream",
     "text": [
      "Mean Harga Produk :  24648.966666666667\n",
      "Median Harga Produk :  15000.0\n",
      "Standard Deviasi Harga Produk :  26873.464696065766\n",
      "Skewness Harga Produk :  2.743929803982138\n",
      "Kurtosis Produk :  9.44809243950047\n"
     ]
    }
   ],
   "source": [
    "meanharga = df[\"Harga Produk\"].mean()\n",
    "medianharga = df[\"Harga Produk\"].median()\n",
    "sdeviasiharga = df[\"Harga Produk\"].std()\n",
    "skewharga = df[\"Harga Produk\"].skew()\n",
    "kurtoharga = df[\"Harga Produk\"].kurtosis()\n",
    "\n",
    "print(\"Mean Harga Produk : \", meanharga)\n",
    "print(\"Median Harga Produk : \", medianharga)\n",
    "print(\"Standard Deviasi Harga Produk : \", sdeviasiharga)\n",
    "print(\"Skewness Harga Produk : \", skewharga)\n",
    "print(\"Kurtosis Produk : \", kurtoharga)\n"
   ]
  },
  {
   "cell_type": "markdown",
   "metadata": {},
   "source": [
    "- terlihat bahwa, harga rata-rata penjualan seblak adalah 24649 rupiah\n",
    "- harga tengahnya adalah 15000 rupiah \n",
    "- dispersi harganya adalah 26873 rupiah\n",
    "- dan terlihat skewness nya bernilai positif/ miring ke kanan.\n",
    "- serta kurtosis nya bernilai positif yang berarti data akan lebih terpusat ke tengah."
   ]
  },
  {
   "cell_type": "code",
   "execution_count": 273,
   "metadata": {},
   "outputs": [
    {
     "name": "stdout",
     "output_type": "stream",
     "text": [
      "Mean Total Terjual :  361.2866666666667\n",
      "Median Total Terjual :  40.0\n",
      "Standard Deviasi Total Terjual :  1119.6704113364658\n",
      "Skewness Total Terjual :  5.102407481262641\n",
      "Kurtosis Produk :  29.521832509378136\n"
     ]
    }
   ],
   "source": [
    "meantj = df[\"Total Terjual\"].mean()\n",
    "mediantj = df[\"Total Terjual\"].median()\n",
    "stdtj = df[\"Total Terjual\"].std()\n",
    "skewtj = df[\"Total Terjual\"].skew()\n",
    "kurtj = df[\"Total Terjual\"].kurtosis()\n",
    "\n",
    "print(\"Mean Total Terjual : \", meantj)\n",
    "print(\"Median Total Terjual : \", mediantj)\n",
    "print(\"Standard Deviasi Total Terjual : \", stdtj)\n",
    "print(\"Skewness Total Terjual : \", skewtj)\n",
    "print(\"Kurtosis Produk : \", kurtj)"
   ]
  },
  {
   "cell_type": "markdown",
   "metadata": {},
   "source": [
    "- terlihat bahwa, penjualan rata-rata seblak adalah 361 pcs\n",
    "- nilai tengah penjualan nya adalah 40 pcs  \n",
    "- dispersi penjualannya adalah 1119 pcs\n",
    "- dan terlihat skewness nya bernilai positif/ miring ke kanan.\n",
    "- serta kurtosis nya bernilai positif yang berarti data akan lebih terpusat ke tengah."
   ]
  },
  {
   "cell_type": "code",
   "execution_count": 274,
   "metadata": {},
   "outputs": [
    {
     "name": "stdout",
     "output_type": "stream",
     "text": [
      "Mean Rating :  3.874\n",
      "Median Rating :  4.9\n",
      "Standard Deviasi Rating :  1.987492096138942\n",
      "Skewness Rating :  -1.4504481824689495\n",
      "Kurtosis Produk :  0.12565785186835177\n"
     ]
    }
   ],
   "source": [
    "meanrt = df[\"Rating\"].mean()\n",
    "medianrt = df[\"Rating\"].median()\n",
    "stdrt = df[\"Rating\"].std()\n",
    "skewrt = df[\"Rating\"].skew()\n",
    "kurt = df[\"Rating\"].kurtosis()\n",
    "\n",
    "print(\"Mean Rating : \", meanrt)\n",
    "print(\"Median Rating : \", medianrt)\n",
    "print(\"Standard Deviasi Rating : \", stdrt)\n",
    "print(\"Skewness Rating : \", skewrt)\n",
    "print(\"Kurtosis Produk : \", kurt)"
   ]
  },
  {
   "cell_type": "markdown",
   "metadata": {},
   "source": [
    "- terlihat bahwa, Rating rata-rata seblak adalah 3.8\n",
    "- nilai tengah Rating nya adalah 4.9\n",
    "- dispersi Ratingnya adalah 1.9\n",
    "- dan terlihat skewness nya bernilai negatif/ miring ke kiri.\n",
    "- serta kurtosis nya bernilai positif yang berarti data akan lebih terpusat ke tengah."
   ]
  },
  {
   "cell_type": "markdown",
   "metadata": {},
   "source": [
    "## 2."
   ]
  },
  {
   "cell_type": "markdown",
   "metadata": {},
   "source": [
    "- Setelah memperoleh data di atas, selanjutnya adalah memperkirakan berapa potensi keuntungan terkecil dan keuntungan terbesar yang mungkin bisa di peroleh dengan melakukan penjualan Seblak di tokopedia. "
   ]
  },
  {
   "cell_type": "code",
   "execution_count": 275,
   "metadata": {},
   "outputs": [
    {
     "name": "stdout",
     "output_type": "stream",
     "text": [
      "Lower Limit: 182.10537495150697\n",
      "Upper Limit: 540.4679583818264\n"
     ]
    }
   ],
   "source": [
    "std = df['Total Terjual'].std()\n",
    "N = len(df)\n",
    "low, up = stats.norm.interval(0.95,loc=df['Total Terjual'].mean(),scale=std/np.sqrt(N))\n",
    "print('Lower Limit:',low)\n",
    "print('Upper Limit:',up)"
   ]
  },
  {
   "cell_type": "markdown",
   "metadata": {},
   "source": [
    "- lower limit menggambarkan potensi penjualan paling sedikit adalah 182 pcs\n",
    "- upper limit menggambarkan potensi penjualan paling banyak adalah 540 pcs"
   ]
  },
  {
   "cell_type": "code",
   "execution_count": 276,
   "metadata": {},
   "outputs": [
    {
     "data": {
      "text/plain": [
       "13321976.690555027"
      ]
     },
     "execution_count": 276,
     "metadata": {},
     "output_type": "execute_result"
    }
   ],
   "source": [
    "Perkiraan_Maximal_Keuntungan = meanharga*up\n",
    "Perkiraan_Maximal_Keuntungan"
   ]
  },
  {
   "cell_type": "markdown",
   "metadata": {},
   "source": [
    "- Dengan pengalian antara Rata-rata harga x Potensi penjualan terbanyak, diperoleh potensi keuntungan terbesar yang bisa di dapat yaitu Rp 13321976, atau  13Juta+."
   ]
  },
  {
   "cell_type": "code",
   "execution_count": 277,
   "metadata": {},
   "outputs": [
    {
     "data": {
      "text/plain": [
       "4488709.317000531"
      ]
     },
     "execution_count": 277,
     "metadata": {},
     "output_type": "execute_result"
    }
   ],
   "source": [
    "Perkiraan_Minimal_Keuntungan = meanharga*low\n",
    "Perkiraan_Minimal_Keuntungan"
   ]
  },
  {
   "cell_type": "markdown",
   "metadata": {},
   "source": [
    "- Dengan pengalian antara Rata-rata harga x Potensi penjualan paling sedikit, diperoleh potensi keuntungan terkecil yang bisa di dapat yaitu Rp 4488709, atau  4Juta+."
   ]
  },
  {
   "cell_type": "markdown",
   "metadata": {},
   "source": [
    "## 3.\n",
    "\n",
    "- Setelah mendapatkan gambaran potensi keuntungan terkecil dan terbesar yang bisa diperoleh, selanjutnya adalah mempertimbangkan apakah harga produk seblak yang ada di jabodetabek dan luar jabodetabek. hal ini diperlukan karena ada faktor-faktor seperti harga bahan baku, biaya pengiriman dan lain lain yang dapat membantu dalam penentuan keputusan untuk melakukan dropship dari luar ataupun dalam jabodetabek.\n"
   ]
  },
  {
   "cell_type": "code",
   "execution_count": 278,
   "metadata": {},
   "outputs": [
    {
     "data": {
      "text/plain": [
       "array(['Tangerang Selatan', 'Bandung', 'Jakarta Selatan', 'Kab. Garut',\n",
       "       'Jakarta Barat', 'Kab. Bandung', 'Surabaya', 'Jakarta Timur',\n",
       "       'Bekasi', 'Kab. Bogor', 'Jakarta Pusat', 'Tangerang', 'Medan',\n",
       "       'Depok', 'Kab. Bantul', 'Sukabumi', 'Kab. Majalengka', 'Cimahi',\n",
       "       'Kab. Tangerang', 'Kab. Tasikmalaya', 'Kab. Karawang',\n",
       "       'Kab. Jember', 'Denpasar', 'Jakarta Utara', 'Tasikmalaya', 'Bogor',\n",
       "       'Kab. Bekasi', 'Semarang', 'Cirebon', 'Kab. Badung'], dtype=object)"
      ]
     },
     "execution_count": 278,
     "metadata": {},
     "output_type": "execute_result"
    }
   ],
   "source": [
    "df[\"Lokasi\"].unique()\n",
    "# perintah untuk menampilkan value unik yang menampilkan semua lokasi penjual dari data di atas"
   ]
  },
  {
   "cell_type": "markdown",
   "metadata": {},
   "source": [
    "Terdapat 30 unique value dari nama lokasi penjual"
   ]
  },
  {
   "cell_type": "code",
   "execution_count": 280,
   "metadata": {},
   "outputs": [
    {
     "data": {
      "text/html": [
       "<div>\n",
       "<style scoped>\n",
       "    .dataframe tbody tr th:only-of-type {\n",
       "        vertical-align: middle;\n",
       "    }\n",
       "\n",
       "    .dataframe tbody tr th {\n",
       "        vertical-align: top;\n",
       "    }\n",
       "\n",
       "    .dataframe thead th {\n",
       "        text-align: right;\n",
       "    }\n",
       "</style>\n",
       "<table border=\"1\" class=\"dataframe\">\n",
       "  <thead>\n",
       "    <tr style=\"text-align: right;\">\n",
       "      <th></th>\n",
       "      <th>Nama Produk</th>\n",
       "      <th>Harga Produk</th>\n",
       "      <th>Seler</th>\n",
       "      <th>Lokasi</th>\n",
       "      <th>Total Terjual</th>\n",
       "      <th>Rating</th>\n",
       "    </tr>\n",
       "  </thead>\n",
       "  <tbody>\n",
       "    <tr>\n",
       "      <th>0</th>\n",
       "      <td>Seblak Instan Ceu Nthien Khas Bandung Rasana N...</td>\n",
       "      <td>15000</td>\n",
       "      <td>Central Seblak Nusantara</td>\n",
       "      <td>Tangerang Selatan</td>\n",
       "      <td>1000</td>\n",
       "      <td>4.9</td>\n",
       "    </tr>\n",
       "    <tr>\n",
       "      <th>2</th>\n",
       "      <td>KERUPUK SEBLAK MENTAH ANEKA WARNA</td>\n",
       "      <td>11500</td>\n",
       "      <td>jajanangarut19</td>\n",
       "      <td>Jakarta Selatan</td>\n",
       "      <td>100</td>\n",
       "      <td>4.9</td>\n",
       "    </tr>\n",
       "    <tr>\n",
       "      <th>5</th>\n",
       "      <td>Seblak ala Kang Rafael | Seblak Viral | Seblak...</td>\n",
       "      <td>9216</td>\n",
       "      <td>vieka mart official</td>\n",
       "      <td>Tangerang Selatan</td>\n",
       "      <td>250</td>\n",
       "      <td>5.0</td>\n",
       "    </tr>\n",
       "    <tr>\n",
       "      <th>6</th>\n",
       "      <td>Kerupuk Seblak Viral / Kerupuk Mawar Putih Vir...</td>\n",
       "      <td>8000</td>\n",
       "      <td>Bumbukeluargakita</td>\n",
       "      <td>Jakarta Barat</td>\n",
       "      <td>12</td>\n",
       "      <td>5.0</td>\n",
       "    </tr>\n",
       "    <tr>\n",
       "      <th>7</th>\n",
       "      <td>Seblak Instan Pedas Home Made</td>\n",
       "      <td>3500</td>\n",
       "      <td>the Dhecip</td>\n",
       "      <td>Tangerang Selatan</td>\n",
       "      <td>1000</td>\n",
       "      <td>4.8</td>\n",
       "    </tr>\n",
       "  </tbody>\n",
       "</table>\n",
       "</div>"
      ],
      "text/plain": [
       "                                         Nama Produk  Harga Produk  \\\n",
       "0  Seblak Instan Ceu Nthien Khas Bandung Rasana N...         15000   \n",
       "2                  KERUPUK SEBLAK MENTAH ANEKA WARNA         11500   \n",
       "5  Seblak ala Kang Rafael | Seblak Viral | Seblak...          9216   \n",
       "6  Kerupuk Seblak Viral / Kerupuk Mawar Putih Vir...          8000   \n",
       "7                      Seblak Instan Pedas Home Made          3500   \n",
       "\n",
       "                      Seler             Lokasi  Total Terjual  Rating  \n",
       "0  Central Seblak Nusantara  Tangerang Selatan           1000     4.9  \n",
       "2            jajanangarut19    Jakarta Selatan            100     4.9  \n",
       "5       vieka mart official  Tangerang Selatan            250     5.0  \n",
       "6         Bumbukeluargakita      Jakarta Barat             12     5.0  \n",
       "7                the Dhecip  Tangerang Selatan           1000     4.8  "
      ]
     },
     "execution_count": 280,
     "metadata": {},
     "output_type": "execute_result"
    }
   ],
   "source": [
    "# membuat list kota yang termasuk kedalam jabodetabek dari unique value di atas.\n",
    "list_kota = ['Tangerang Selatan', 'Jakarta Selatan', 'Jakarta Barat', \n",
    "       'Jakarta Timur', 'Bekasi', 'Kab. Bogor', 'Jakarta Pusat', \n",
    "       'Tangerang', 'Depok', 'Kab. Tangerang', 'Jakarta Utara', 'Bogor', 'Kab. Bekasi']\n",
    "#terdapat 13 kota yang termasuk kedalam area jabodetabek\n",
    "\n",
    "# perintah untuk menampilkan data produk, jika lokasi nya ada di dalam list di atas  \n",
    "Jabodetabek = df[df['Lokasi'].isin(list_kota)]\n",
    "\n",
    "Jabodetabek.head()"
   ]
  },
  {
   "cell_type": "code",
   "execution_count": 281,
   "metadata": {},
   "outputs": [
    {
     "data": {
      "text/html": [
       "<div>\n",
       "<style scoped>\n",
       "    .dataframe tbody tr th:only-of-type {\n",
       "        vertical-align: middle;\n",
       "    }\n",
       "\n",
       "    .dataframe tbody tr th {\n",
       "        vertical-align: top;\n",
       "    }\n",
       "\n",
       "    .dataframe thead th {\n",
       "        text-align: right;\n",
       "    }\n",
       "</style>\n",
       "<table border=\"1\" class=\"dataframe\">\n",
       "  <thead>\n",
       "    <tr style=\"text-align: right;\">\n",
       "      <th></th>\n",
       "      <th>Nama Produk</th>\n",
       "      <th>Harga Produk</th>\n",
       "      <th>Seler</th>\n",
       "      <th>Lokasi</th>\n",
       "      <th>Total Terjual</th>\n",
       "      <th>Rating</th>\n",
       "    </tr>\n",
       "  </thead>\n",
       "  <tbody>\n",
       "    <tr>\n",
       "      <th>1</th>\n",
       "      <td>SEBLAK JUARA INSTAN MASAK BASAH ASLI BANDUNG E...</td>\n",
       "      <td>22000</td>\n",
       "      <td>Rasa Juara Indonesia</td>\n",
       "      <td>Bandung</td>\n",
       "      <td>750</td>\n",
       "      <td>4.9</td>\n",
       "    </tr>\n",
       "    <tr>\n",
       "      <th>3</th>\n",
       "      <td>MASJAY Seblak Bumbu Membara Instant - No.1 Str...</td>\n",
       "      <td>15000</td>\n",
       "      <td>Lidigeli</td>\n",
       "      <td>Kab. Garut</td>\n",
       "      <td>70</td>\n",
       "      <td>5.0</td>\n",
       "    </tr>\n",
       "    <tr>\n",
       "      <th>4</th>\n",
       "      <td>Seblak Juara ! Seblak Instan Rasa Original</td>\n",
       "      <td>115000</td>\n",
       "      <td>Rasa Juara Indonesia</td>\n",
       "      <td>Bandung</td>\n",
       "      <td>2000</td>\n",
       "      <td>4.9</td>\n",
       "    </tr>\n",
       "    <tr>\n",
       "      <th>8</th>\n",
       "      <td>KERUPUK MENTAH SERBA 5000 BAHAN SEBLAK</td>\n",
       "      <td>6000</td>\n",
       "      <td>GK_Snack</td>\n",
       "      <td>Kab. Bandung</td>\n",
       "      <td>500</td>\n",
       "      <td>5.0</td>\n",
       "    </tr>\n",
       "    <tr>\n",
       "      <th>10</th>\n",
       "      <td>Seblak Cocol Seblak Coet Seblak Viral Seblak B...</td>\n",
       "      <td>5000</td>\n",
       "      <td>FAG COLLECTION</td>\n",
       "      <td>Surabaya</td>\n",
       "      <td>0</td>\n",
       "      <td>0.0</td>\n",
       "    </tr>\n",
       "  </tbody>\n",
       "</table>\n",
       "</div>"
      ],
      "text/plain": [
       "                                          Nama Produk  Harga Produk  \\\n",
       "1   SEBLAK JUARA INSTAN MASAK BASAH ASLI BANDUNG E...         22000   \n",
       "3   MASJAY Seblak Bumbu Membara Instant - No.1 Str...         15000   \n",
       "4          Seblak Juara ! Seblak Instan Rasa Original        115000   \n",
       "8              KERUPUK MENTAH SERBA 5000 BAHAN SEBLAK          6000   \n",
       "10  Seblak Cocol Seblak Coet Seblak Viral Seblak B...          5000   \n",
       "\n",
       "                   Seler        Lokasi  Total Terjual  Rating  \n",
       "1   Rasa Juara Indonesia       Bandung            750     4.9  \n",
       "3               Lidigeli    Kab. Garut             70     5.0  \n",
       "4   Rasa Juara Indonesia       Bandung           2000     4.9  \n",
       "8               GK_Snack  Kab. Bandung            500     5.0  \n",
       "10        FAG COLLECTION      Surabaya              0     0.0  "
      ]
     },
     "execution_count": 281,
     "metadata": {},
     "output_type": "execute_result"
    }
   ],
   "source": [
    "# perintah untuk menampilkan data produk, jika lokasi nya tidak ada di dalam list kota  \n",
    "Nonjabodetabek = df[~df['Lokasi'].isin(list_kota)]#menggunakan '~' untuk memilih selain yang berada di dalam list kota\n",
    "\n",
    "Nonjabodetabek.head()"
   ]
  },
  {
   "cell_type": "code",
   "execution_count": 282,
   "metadata": {},
   "outputs": [
    {
     "data": {
      "text/plain": [
       "80"
      ]
     },
     "execution_count": 282,
     "metadata": {},
     "output_type": "execute_result"
    }
   ],
   "source": [
    "len(Jabodetabek)"
   ]
  },
  {
   "cell_type": "markdown",
   "metadata": {},
   "source": [
    "Setelah dipisahkan antara data yang berasal dari dalam ataupun luar jabodetabek.\n",
    "- Terdapat 80 data yang berasal dari dalam jabodetabek dan 70 data dari luar jabodetabek\n",
    "Selanjunya membuat hipotesa untuk menentukan apakah harga berang di jabodetabek dan luar jabodetabek berbeda?"
   ]
  },
  {
   "cell_type": "markdown",
   "metadata": {},
   "source": [
    "### Hipotesa:\n",
    "\n",
    "- H0 : Harga Produk Seblak di Jabodetabek == Harga Produk Seblak diluar Jabodetabek.\n",
    "- H1 : Harga Produk Seblak di Jabodetabek != Harga Produk Seblak diluar Jabodetabek."
   ]
  },
  {
   "cell_type": "code",
   "execution_count": 249,
   "metadata": {},
   "outputs": [
    {
     "name": "stdout",
     "output_type": "stream",
     "text": [
      "T-Statistic: 0.8539429970244128\n",
      "P-value: 0.39451662993897374\n"
     ]
    }
   ],
   "source": [
    "t_stat, p_val = stats.ttest_ind(Jabodetabek['Harga Produk'],Nonjabodetabek['Harga Produk'])\n",
    "print('T-Statistic:',t_stat)\n",
    "print('P-value:',p_val) "
   ]
  },
  {
   "cell_type": "markdown",
   "metadata": {},
   "source": [
    "Berdasarkan Nilai P value di atas, Terlihat bahwa  P-value (0.3945) lebih besar dari tingkat signifikansi umum (0.05).\n",
    "- Hal ini menunjukan bahwa tidak memiliki cukup bukti untuk menolak hipotesis nol (H0). Perbedaan antara harga di jabodetabek dan diluar jabodetabek tidak signifikan.\n",
    "- Maka H0 diterima\n"
   ]
  },
  {
   "cell_type": "markdown",
   "metadata": {},
   "source": [
    "## 4"
   ]
  },
  {
   "cell_type": "markdown",
   "metadata": {},
   "source": [
    "- Setelah mengetahui bahwa tidak ada perbedaan signifikan antara harga di jabodetabek dan diluar jabodetabek, selanjutnya harus mempertimbangkan apakan pembeli cendrung suka membeli harga produk seblak yang lebih murah dibandingkan yang lebih mahal"
   ]
  },
  {
   "cell_type": "markdown",
   "metadata": {},
   "source": [
    "### Hipotesa:\n",
    "\n",
    "- H0 : Tidak ada Korelasi antara Harga Produk Seblak Murah dengan Kecendrungan Pembelian customer\n",
    "- H1 : Ada kecendrungan yang kuat antara Harga Produk Seblak yang lebih murah dengan minat pembelian customer "
   ]
  },
  {
   "cell_type": "code",
   "execution_count": 250,
   "metadata": {},
   "outputs": [
    {
     "name": "stdout",
     "output_type": "stream",
     "text": [
      "r-correlation: 0.04, p-value: 0.6187950993802246\n"
     ]
    }
   ],
   "source": [
    "corr_r, pval_p = stats.pearsonr(df['Harga Produk'], df['Total Terjual'])\n",
    "print(f\"r-correlation: {corr_r:.2f}, p-value: {pval_p}\")"
   ]
  },
  {
   "cell_type": "markdown",
   "metadata": {},
   "source": [
    "- Terlihat dari r-correlation (0,04), menunjukan bahwa memiliki korelasi positif, namun juga menunjukan tidak ada korelasi yang kuat antara harga murah dengan kecendrungan minat pembeli.\n",
    "- Maka, h0 diterima\n",
    "- Tidak ada korelasi yang kuat antara harga murah dan minat pembeli"
   ]
  },
  {
   "cell_type": "markdown",
   "metadata": {},
   "source": [
    "## Kesimpulan:\n",
    "\n",
    "- Berdasarkan analisa statik di atas. Penjualan Seblak dengan cara Dropshiper melalui Tokopedia, Berpotensi menghasilkan keuntungan hingga 13 Juta+. Karenanya, Target 10jt penjualan dalam 3 bulan  dari Time bound masih mungkin untuk dicapai dengan strategi dan perencanaan yang baik.\n",
    "- Harga produk Seblak di Jabodetabek dan diluar Jabodetabek tidaklah memiliki perbedaan yang signifikan, hal ini dapat digunakan untuk pertimbangan dalam memilih adal kota dropshiper dengan ongkir yang lebih murah untuk mendapatkan keuntungan yang lebih baik.\n",
    "- Tidak ada korelasi antara harga jual yang murah dengan kecendrungan minat pembeli. hal ini masih bisa di ekplore lebih jauh, bisa jadi kecendrungan pembelian ini tergantung dengan rating ataupun review yang positif dari suatu produk."
   ]
  }
 ],
 "metadata": {
  "kernelspec": {
   "display_name": "base",
   "language": "python",
   "name": "python3"
  },
  "language_info": {
   "codemirror_mode": {
    "name": "ipython",
    "version": 3
   },
   "file_extension": ".py",
   "mimetype": "text/x-python",
   "name": "python",
   "nbconvert_exporter": "python",
   "pygments_lexer": "ipython3",
   "version": "3.9.17"
  },
  "orig_nbformat": 4
 },
 "nbformat": 4,
 "nbformat_minor": 2
}
